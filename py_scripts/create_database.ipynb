{
 "cells": [
  {
   "cell_type": "markdown",
   "metadata": {},
   "source": [
    "Comprehensive Autoimmune Disorder Dataset\n",
    "\n",
    "The dataset was downloaded from Kaggle website: https://www.kaggle.com/datasets/abdullahragheb/all-autoimmune-disorder-10k/data"
   ]
  },
  {
   "cell_type": "markdown",
   "metadata": {},
   "source": [
    "<span style=\"color:yellow; font-size:20px;\">1. Creating a database.</span>"
   ]
  },
  {
   "cell_type": "code",
   "execution_count": 3,
   "metadata": {},
   "outputs": [],
   "source": [
    "#libraries\n",
    "import pandas as pd\n",
    "import sqlite3"
   ]
  },
  {
   "cell_type": "code",
   "execution_count": null,
   "metadata": {},
   "outputs": [
    {
     "name": "stdout",
     "output_type": "stream",
     "text": [
      "Data has been imported to db_autoimmune_disorders.db and tables tbl_all_research_results, tbl_disorders_description.\n"
     ]
    }
   ],
   "source": [
    "# Import file names\n",
    "csv_dataset = 'Autoimmune_Disorder_10k_with_All_Disorders.csv'\n",
    "csv_disorders_description = 'Autoimmune_Disorder_Description.xlsx'\n",
    "\n",
    "# Create database name\n",
    "db_name = 'db_autoimmune_disorders.db'\n",
    "\n",
    "# Create table names\n",
    "table_dataset = 'tbl_all_research_results'\n",
    "table_description = 'tbl_disorders_description'\n",
    "\n",
    "# Import data to DataFrame\n",
    "df_dataset = pd.read_csv(csv_dataset)\n",
    "df_disorders_description = pd.read_excel(csv_disorders_description)\n",
    "\n",
    "# SQLite connection\n",
    "conn = sqlite3.connect(db_name)\n",
    "\n",
    "# Create tables in database\n",
    "df_dataset.to_sql(table_dataset, conn, if_exists='replace', index=False)\n",
    "df_disorders_description.to_sql(table_description, conn, if_exists='replace', index=False)\n",
    "\n",
    "# close connection\n",
    "conn.close()\n",
    "\n",
    "print(f\"Data has been imported to {db_name} and tables {table_dataset}, {table_description}.\")"
   ]
  }
 ],
 "metadata": {
  "kernelspec": {
   "display_name": "base",
   "language": "python",
   "name": "python3"
  },
  "language_info": {
   "codemirror_mode": {
    "name": "ipython",
    "version": 3
   },
   "file_extension": ".py",
   "mimetype": "text/x-python",
   "name": "python",
   "nbconvert_exporter": "python",
   "pygments_lexer": "ipython3",
   "version": "3.11.7"
  }
 },
 "nbformat": 4,
 "nbformat_minor": 2
}
