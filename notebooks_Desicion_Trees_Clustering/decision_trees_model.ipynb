{
 "cells": [
  {
   "cell_type": "markdown",
   "metadata": {},
   "source": [
    "Decision trees model with clusters as labels"
   ]
  },
  {
   "cell_type": "code",
   "execution_count": 2,
   "metadata": {},
   "outputs": [],
   "source": [
    "import pandas as pd\n",
    "import numpy as np\n",
    "import matplotlib.pyplot as plt\n",
    "import warnings\n",
    "from sklearn.model_selection import train_test_split, cross_validate\n",
    "from sklearn.tree import DecisionTreeClassifier, plot_tree\n",
    "from sklearn.metrics import classification_report, confusion_matrix\n",
    "from sklearn.model_selection import GridSearchCV\n",
    "from imblearn.over_sampling import SMOTE\n",
    "from sklearn.pipeline import Pipeline\n",
    "from sklearn.feature_selection import SelectFromModel\n",
    "\n",
    "warnings.filterwarnings(action='ignore')\n",
    "pd.set_option('display.max_columns', None)"
   ]
  },
  {
   "cell_type": "markdown",
   "metadata": {},
   "source": [
    "Fetching prepared dataset"
   ]
  },
  {
   "cell_type": "code",
   "execution_count": 3,
   "metadata": {},
   "outputs": [],
   "source": [
    "scaled_df = pd.read_csv('Dane/scaled_df_clusters.csv')"
   ]
  },
  {
   "cell_type": "markdown",
   "metadata": {},
   "source": [
    "Checking prepered dataset"
   ]
  },
  {
   "cell_type": "code",
   "execution_count": 4,
   "metadata": {},
   "outputs": [
    {
     "data": {
      "text/html": [
       "<div>\n",
       "<style scoped>\n",
       "    .dataframe tbody tr th:only-of-type {\n",
       "        vertical-align: middle;\n",
       "    }\n",
       "\n",
       "    .dataframe tbody tr th {\n",
       "        vertical-align: top;\n",
       "    }\n",
       "\n",
       "    .dataframe thead th {\n",
       "        text-align: right;\n",
       "    }\n",
       "</style>\n",
       "<table border=\"1\" class=\"dataframe\">\n",
       "  <thead>\n",
       "    <tr style=\"text-align: right;\">\n",
       "      <th></th>\n",
       "      <th>Age</th>\n",
       "      <th>Gender</th>\n",
       "      <th>Sickness_Duration_Months</th>\n",
       "      <th>RBC_Count</th>\n",
       "      <th>Hemoglobin</th>\n",
       "      <th>Hematocrit</th>\n",
       "      <th>MCV</th>\n",
       "      <th>MCH</th>\n",
       "      <th>MCHC</th>\n",
       "      <th>RDW</th>\n",
       "      <th>Reticulocyte_Count</th>\n",
       "      <th>WBC_Count</th>\n",
       "      <th>Neutrophils</th>\n",
       "      <th>Lymphocytes</th>\n",
       "      <th>Monocytes</th>\n",
       "      <th>Eosinophils</th>\n",
       "      <th>Basophils</th>\n",
       "      <th>PLT_Count</th>\n",
       "      <th>MPV</th>\n",
       "      <th>ANA</th>\n",
       "      <th>Esbach</th>\n",
       "      <th>MBL_Level</th>\n",
       "      <th>ESR</th>\n",
       "      <th>C3</th>\n",
       "      <th>C4</th>\n",
       "      <th>CRP</th>\n",
       "      <th>Anti-dsDNA</th>\n",
       "      <th>Anti-Sm</th>\n",
       "      <th>Rheumatoid factor</th>\n",
       "      <th>ACPA</th>\n",
       "      <th>Anti-TPO</th>\n",
       "      <th>Anti-Tg</th>\n",
       "      <th>Anti-SMA</th>\n",
       "      <th>Low-grade fever</th>\n",
       "      <th>Fatigue or chronic tiredness</th>\n",
       "      <th>Dizziness</th>\n",
       "      <th>Weight loss</th>\n",
       "      <th>Rashes and skin lesions</th>\n",
       "      <th>Stiffness in the joints</th>\n",
       "      <th>Brittle hair or hair loss</th>\n",
       "      <th>Dry eyes and/or mouth</th>\n",
       "      <th>General unwell feeling</th>\n",
       "      <th>Joint pain</th>\n",
       "      <th>Anti_dsDNA</th>\n",
       "      <th>Anti_enterocyte_antibodies</th>\n",
       "      <th>ASCA</th>\n",
       "      <th>Anti_BP180</th>\n",
       "      <th>ASMA</th>\n",
       "      <th>IgG_IgE_receptor</th>\n",
       "      <th>Anti_SRP</th>\n",
       "      <th>Anti_La_SSB</th>\n",
       "      <th>Anti_Jo1</th>\n",
       "      <th>Anti_desmoglein_1</th>\n",
       "      <th>EMA</th>\n",
       "      <th>Anti_type_VII_collagen</th>\n",
       "      <th>C1_inhibitor</th>\n",
       "      <th>Anti_epidermal_basement_membrane_IgA</th>\n",
       "      <th>Anti_OmpC</th>\n",
       "      <th>pANCA</th>\n",
       "      <th>Anti_tissue_transglutaminase</th>\n",
       "      <th>anti_Scl_70</th>\n",
       "      <th>Anti_Mi2</th>\n",
       "      <th>Anti_parietal_cell</th>\n",
       "      <th>Progesterone_antibodies</th>\n",
       "      <th>Anti_Sm</th>\n",
       "      <th>Diseases_ID</th>\n",
       "      <th>Diseases_eng</th>\n",
       "      <th>Diseases_group</th>\n",
       "      <th>Cluster</th>\n",
       "    </tr>\n",
       "  </thead>\n",
       "  <tbody>\n",
       "    <tr>\n",
       "      <th>0</th>\n",
       "      <td>0.712121</td>\n",
       "      <td>1</td>\n",
       "      <td>0.218487</td>\n",
       "      <td>0.016667</td>\n",
       "      <td>0.424000</td>\n",
       "      <td>0.596429</td>\n",
       "      <td>0.828276</td>\n",
       "      <td>0.966667</td>\n",
       "      <td>0.424</td>\n",
       "      <td>0.226667</td>\n",
       "      <td>0.632</td>\n",
       "      <td>0.534817</td>\n",
       "      <td>0.938889</td>\n",
       "      <td>0.160000</td>\n",
       "      <td>0.90750</td>\n",
       "      <td>0.7550</td>\n",
       "      <td>0.58</td>\n",
       "      <td>0.822857</td>\n",
       "      <td>0.216</td>\n",
       "      <td>1</td>\n",
       "      <td>0.482759</td>\n",
       "      <td>0.894444</td>\n",
       "      <td>0.816327</td>\n",
       "      <td>0.836364</td>\n",
       "      <td>0.78</td>\n",
       "      <td>0.310</td>\n",
       "      <td>1</td>\n",
       "      <td>1</td>\n",
       "      <td>0</td>\n",
       "      <td>1</td>\n",
       "      <td>0</td>\n",
       "      <td>1</td>\n",
       "      <td>1</td>\n",
       "      <td>0</td>\n",
       "      <td>1</td>\n",
       "      <td>1</td>\n",
       "      <td>0</td>\n",
       "      <td>0</td>\n",
       "      <td>0</td>\n",
       "      <td>0</td>\n",
       "      <td>0</td>\n",
       "      <td>1</td>\n",
       "      <td>1</td>\n",
       "      <td>0</td>\n",
       "      <td>0</td>\n",
       "      <td>0</td>\n",
       "      <td>0</td>\n",
       "      <td>0</td>\n",
       "      <td>0</td>\n",
       "      <td>0</td>\n",
       "      <td>0</td>\n",
       "      <td>0</td>\n",
       "      <td>0</td>\n",
       "      <td>0</td>\n",
       "      <td>0</td>\n",
       "      <td>0</td>\n",
       "      <td>1</td>\n",
       "      <td>0</td>\n",
       "      <td>0</td>\n",
       "      <td>0</td>\n",
       "      <td>0</td>\n",
       "      <td>0</td>\n",
       "      <td>0</td>\n",
       "      <td>0</td>\n",
       "      <td>0</td>\n",
       "      <td>1</td>\n",
       "      <td>Linear IgA disease</td>\n",
       "      <td>7</td>\n",
       "      <td>7</td>\n",
       "    </tr>\n",
       "    <tr>\n",
       "      <th>1</th>\n",
       "      <td>0.651515</td>\n",
       "      <td>0</td>\n",
       "      <td>0.890756</td>\n",
       "      <td>0.612500</td>\n",
       "      <td>0.630667</td>\n",
       "      <td>0.456429</td>\n",
       "      <td>0.661887</td>\n",
       "      <td>0.656667</td>\n",
       "      <td>0.014</td>\n",
       "      <td>0.811111</td>\n",
       "      <td>0.284</td>\n",
       "      <td>0.574072</td>\n",
       "      <td>0.594000</td>\n",
       "      <td>0.922667</td>\n",
       "      <td>0.08250</td>\n",
       "      <td>0.1675</td>\n",
       "      <td>0.66</td>\n",
       "      <td>0.968049</td>\n",
       "      <td>0.384</td>\n",
       "      <td>1</td>\n",
       "      <td>0.572414</td>\n",
       "      <td>0.488889</td>\n",
       "      <td>0.469388</td>\n",
       "      <td>0.000000</td>\n",
       "      <td>0.14</td>\n",
       "      <td>0.273</td>\n",
       "      <td>0</td>\n",
       "      <td>0</td>\n",
       "      <td>1</td>\n",
       "      <td>1</td>\n",
       "      <td>0</td>\n",
       "      <td>1</td>\n",
       "      <td>0</td>\n",
       "      <td>1</td>\n",
       "      <td>0</td>\n",
       "      <td>0</td>\n",
       "      <td>1</td>\n",
       "      <td>1</td>\n",
       "      <td>0</td>\n",
       "      <td>1</td>\n",
       "      <td>0</td>\n",
       "      <td>0</td>\n",
       "      <td>1</td>\n",
       "      <td>0</td>\n",
       "      <td>0</td>\n",
       "      <td>0</td>\n",
       "      <td>0</td>\n",
       "      <td>0</td>\n",
       "      <td>0</td>\n",
       "      <td>1</td>\n",
       "      <td>0</td>\n",
       "      <td>1</td>\n",
       "      <td>0</td>\n",
       "      <td>0</td>\n",
       "      <td>0</td>\n",
       "      <td>0</td>\n",
       "      <td>0</td>\n",
       "      <td>0</td>\n",
       "      <td>0</td>\n",
       "      <td>0</td>\n",
       "      <td>0</td>\n",
       "      <td>1</td>\n",
       "      <td>0</td>\n",
       "      <td>0</td>\n",
       "      <td>0</td>\n",
       "      <td>2</td>\n",
       "      <td>Dermatomyositis</td>\n",
       "      <td>4</td>\n",
       "      <td>6</td>\n",
       "    </tr>\n",
       "    <tr>\n",
       "      <th>2</th>\n",
       "      <td>0.363636</td>\n",
       "      <td>0</td>\n",
       "      <td>0.050420</td>\n",
       "      <td>0.170833</td>\n",
       "      <td>0.488000</td>\n",
       "      <td>0.457857</td>\n",
       "      <td>0.441814</td>\n",
       "      <td>0.571667</td>\n",
       "      <td>0.922</td>\n",
       "      <td>0.893333</td>\n",
       "      <td>0.872</td>\n",
       "      <td>0.589949</td>\n",
       "      <td>0.464889</td>\n",
       "      <td>0.540333</td>\n",
       "      <td>0.62000</td>\n",
       "      <td>0.8300</td>\n",
       "      <td>0.57</td>\n",
       "      <td>1.000000</td>\n",
       "      <td>0.140</td>\n",
       "      <td>1</td>\n",
       "      <td>0.824138</td>\n",
       "      <td>0.677778</td>\n",
       "      <td>0.897959</td>\n",
       "      <td>0.500000</td>\n",
       "      <td>0.32</td>\n",
       "      <td>0.102</td>\n",
       "      <td>1</td>\n",
       "      <td>0</td>\n",
       "      <td>1</td>\n",
       "      <td>1</td>\n",
       "      <td>1</td>\n",
       "      <td>1</td>\n",
       "      <td>1</td>\n",
       "      <td>0</td>\n",
       "      <td>1</td>\n",
       "      <td>1</td>\n",
       "      <td>0</td>\n",
       "      <td>1</td>\n",
       "      <td>0</td>\n",
       "      <td>0</td>\n",
       "      <td>0</td>\n",
       "      <td>0</td>\n",
       "      <td>0</td>\n",
       "      <td>0</td>\n",
       "      <td>0</td>\n",
       "      <td>0</td>\n",
       "      <td>0</td>\n",
       "      <td>0</td>\n",
       "      <td>0</td>\n",
       "      <td>0</td>\n",
       "      <td>0</td>\n",
       "      <td>0</td>\n",
       "      <td>0</td>\n",
       "      <td>0</td>\n",
       "      <td>0</td>\n",
       "      <td>0</td>\n",
       "      <td>0</td>\n",
       "      <td>0</td>\n",
       "      <td>0</td>\n",
       "      <td>0</td>\n",
       "      <td>0</td>\n",
       "      <td>0</td>\n",
       "      <td>0</td>\n",
       "      <td>0</td>\n",
       "      <td>0</td>\n",
       "      <td>3</td>\n",
       "      <td>Ord's thyroiditis</td>\n",
       "      <td>8</td>\n",
       "      <td>3</td>\n",
       "    </tr>\n",
       "    <tr>\n",
       "      <th>3</th>\n",
       "      <td>0.409091</td>\n",
       "      <td>1</td>\n",
       "      <td>0.092437</td>\n",
       "      <td>0.445833</td>\n",
       "      <td>0.661333</td>\n",
       "      <td>0.292857</td>\n",
       "      <td>0.364788</td>\n",
       "      <td>0.236667</td>\n",
       "      <td>0.586</td>\n",
       "      <td>0.142222</td>\n",
       "      <td>0.516</td>\n",
       "      <td>0.462308</td>\n",
       "      <td>0.248889</td>\n",
       "      <td>0.620000</td>\n",
       "      <td>0.56750</td>\n",
       "      <td>0.5300</td>\n",
       "      <td>0.22</td>\n",
       "      <td>0.074418</td>\n",
       "      <td>0.790</td>\n",
       "      <td>1</td>\n",
       "      <td>0.224138</td>\n",
       "      <td>0.472222</td>\n",
       "      <td>0.510204</td>\n",
       "      <td>0.600000</td>\n",
       "      <td>0.32</td>\n",
       "      <td>0.545</td>\n",
       "      <td>0</td>\n",
       "      <td>1</td>\n",
       "      <td>0</td>\n",
       "      <td>1</td>\n",
       "      <td>1</td>\n",
       "      <td>1</td>\n",
       "      <td>0</td>\n",
       "      <td>1</td>\n",
       "      <td>0</td>\n",
       "      <td>1</td>\n",
       "      <td>1</td>\n",
       "      <td>1</td>\n",
       "      <td>0</td>\n",
       "      <td>1</td>\n",
       "      <td>1</td>\n",
       "      <td>1</td>\n",
       "      <td>0</td>\n",
       "      <td>0</td>\n",
       "      <td>0</td>\n",
       "      <td>0</td>\n",
       "      <td>0</td>\n",
       "      <td>0</td>\n",
       "      <td>0</td>\n",
       "      <td>0</td>\n",
       "      <td>0</td>\n",
       "      <td>0</td>\n",
       "      <td>0</td>\n",
       "      <td>0</td>\n",
       "      <td>0</td>\n",
       "      <td>0</td>\n",
       "      <td>0</td>\n",
       "      <td>0</td>\n",
       "      <td>0</td>\n",
       "      <td>0</td>\n",
       "      <td>0</td>\n",
       "      <td>0</td>\n",
       "      <td>0</td>\n",
       "      <td>0</td>\n",
       "      <td>0</td>\n",
       "      <td>4</td>\n",
       "      <td>Restless legs syndrome</td>\n",
       "      <td>5</td>\n",
       "      <td>0</td>\n",
       "    </tr>\n",
       "    <tr>\n",
       "      <th>4</th>\n",
       "      <td>0.909091</td>\n",
       "      <td>1</td>\n",
       "      <td>0.252101</td>\n",
       "      <td>0.575000</td>\n",
       "      <td>0.161333</td>\n",
       "      <td>0.112857</td>\n",
       "      <td>0.605202</td>\n",
       "      <td>0.645000</td>\n",
       "      <td>0.058</td>\n",
       "      <td>0.922222</td>\n",
       "      <td>0.368</td>\n",
       "      <td>0.719465</td>\n",
       "      <td>0.351556</td>\n",
       "      <td>0.919000</td>\n",
       "      <td>0.13125</td>\n",
       "      <td>0.9000</td>\n",
       "      <td>0.90</td>\n",
       "      <td>0.918556</td>\n",
       "      <td>0.702</td>\n",
       "      <td>1</td>\n",
       "      <td>0.227586</td>\n",
       "      <td>0.522222</td>\n",
       "      <td>0.857143</td>\n",
       "      <td>0.300000</td>\n",
       "      <td>0.30</td>\n",
       "      <td>0.105</td>\n",
       "      <td>0</td>\n",
       "      <td>1</td>\n",
       "      <td>0</td>\n",
       "      <td>1</td>\n",
       "      <td>0</td>\n",
       "      <td>0</td>\n",
       "      <td>1</td>\n",
       "      <td>0</td>\n",
       "      <td>1</td>\n",
       "      <td>1</td>\n",
       "      <td>1</td>\n",
       "      <td>0</td>\n",
       "      <td>1</td>\n",
       "      <td>0</td>\n",
       "      <td>0</td>\n",
       "      <td>1</td>\n",
       "      <td>0</td>\n",
       "      <td>0</td>\n",
       "      <td>0</td>\n",
       "      <td>0</td>\n",
       "      <td>0</td>\n",
       "      <td>0</td>\n",
       "      <td>0</td>\n",
       "      <td>0</td>\n",
       "      <td>0</td>\n",
       "      <td>0</td>\n",
       "      <td>0</td>\n",
       "      <td>0</td>\n",
       "      <td>0</td>\n",
       "      <td>0</td>\n",
       "      <td>0</td>\n",
       "      <td>0</td>\n",
       "      <td>0</td>\n",
       "      <td>0</td>\n",
       "      <td>0</td>\n",
       "      <td>0</td>\n",
       "      <td>0</td>\n",
       "      <td>0</td>\n",
       "      <td>0</td>\n",
       "      <td>5</td>\n",
       "      <td>Autoimmune polyendocrine syndrome type 2 (APS2)</td>\n",
       "      <td>8</td>\n",
       "      <td>1</td>\n",
       "    </tr>\n",
       "  </tbody>\n",
       "</table>\n",
       "</div>"
      ],
      "text/plain": [
       "        Age  Gender  Sickness_Duration_Months  RBC_Count  Hemoglobin  \\\n",
       "0  0.712121       1                  0.218487   0.016667    0.424000   \n",
       "1  0.651515       0                  0.890756   0.612500    0.630667   \n",
       "2  0.363636       0                  0.050420   0.170833    0.488000   \n",
       "3  0.409091       1                  0.092437   0.445833    0.661333   \n",
       "4  0.909091       1                  0.252101   0.575000    0.161333   \n",
       "\n",
       "   Hematocrit       MCV       MCH   MCHC       RDW  Reticulocyte_Count  \\\n",
       "0    0.596429  0.828276  0.966667  0.424  0.226667               0.632   \n",
       "1    0.456429  0.661887  0.656667  0.014  0.811111               0.284   \n",
       "2    0.457857  0.441814  0.571667  0.922  0.893333               0.872   \n",
       "3    0.292857  0.364788  0.236667  0.586  0.142222               0.516   \n",
       "4    0.112857  0.605202  0.645000  0.058  0.922222               0.368   \n",
       "\n",
       "   WBC_Count  Neutrophils  Lymphocytes  Monocytes  Eosinophils  Basophils  \\\n",
       "0   0.534817     0.938889     0.160000    0.90750       0.7550       0.58   \n",
       "1   0.574072     0.594000     0.922667    0.08250       0.1675       0.66   \n",
       "2   0.589949     0.464889     0.540333    0.62000       0.8300       0.57   \n",
       "3   0.462308     0.248889     0.620000    0.56750       0.5300       0.22   \n",
       "4   0.719465     0.351556     0.919000    0.13125       0.9000       0.90   \n",
       "\n",
       "   PLT_Count    MPV  ANA    Esbach  MBL_Level       ESR        C3    C4  \\\n",
       "0   0.822857  0.216    1  0.482759   0.894444  0.816327  0.836364  0.78   \n",
       "1   0.968049  0.384    1  0.572414   0.488889  0.469388  0.000000  0.14   \n",
       "2   1.000000  0.140    1  0.824138   0.677778  0.897959  0.500000  0.32   \n",
       "3   0.074418  0.790    1  0.224138   0.472222  0.510204  0.600000  0.32   \n",
       "4   0.918556  0.702    1  0.227586   0.522222  0.857143  0.300000  0.30   \n",
       "\n",
       "     CRP  Anti-dsDNA  Anti-Sm  Rheumatoid factor  ACPA  Anti-TPO  Anti-Tg  \\\n",
       "0  0.310           1        1                  0     1         0        1   \n",
       "1  0.273           0        0                  1     1         0        1   \n",
       "2  0.102           1        0                  1     1         1        1   \n",
       "3  0.545           0        1                  0     1         1        1   \n",
       "4  0.105           0        1                  0     1         0        0   \n",
       "\n",
       "   Anti-SMA  Low-grade fever  Fatigue or chronic tiredness  Dizziness  \\\n",
       "0         1                0                             1          1   \n",
       "1         0                1                             0          0   \n",
       "2         1                0                             1          1   \n",
       "3         0                1                             0          1   \n",
       "4         1                0                             1          1   \n",
       "\n",
       "   Weight loss  Rashes and skin lesions  Stiffness in the joints  \\\n",
       "0            0                        0                        0   \n",
       "1            1                        1                        0   \n",
       "2            0                        1                        0   \n",
       "3            1                        1                        0   \n",
       "4            1                        0                        1   \n",
       "\n",
       "   Brittle hair or hair loss  Dry eyes and/or mouth  General unwell feeling  \\\n",
       "0                          0                      0                       1   \n",
       "1                          1                      0                       0   \n",
       "2                          0                      0                       0   \n",
       "3                          1                      1                       1   \n",
       "4                          0                      0                       1   \n",
       "\n",
       "   Joint pain  Anti_dsDNA  Anti_enterocyte_antibodies  ASCA  Anti_BP180  ASMA  \\\n",
       "0           1           0                           0     0           0     0   \n",
       "1           1           0                           0     0           0     0   \n",
       "2           0           0                           0     0           0     0   \n",
       "3           0           0                           0     0           0     0   \n",
       "4           0           0                           0     0           0     0   \n",
       "\n",
       "   IgG_IgE_receptor  Anti_SRP  Anti_La_SSB  Anti_Jo1  Anti_desmoglein_1  EMA  \\\n",
       "0                 0         0            0         0                  0    0   \n",
       "1                 0         1            0         1                  0    0   \n",
       "2                 0         0            0         0                  0    0   \n",
       "3                 0         0            0         0                  0    0   \n",
       "4                 0         0            0         0                  0    0   \n",
       "\n",
       "   Anti_type_VII_collagen  C1_inhibitor  Anti_epidermal_basement_membrane_IgA  \\\n",
       "0                       0             0                                     1   \n",
       "1                       0             0                                     0   \n",
       "2                       0             0                                     0   \n",
       "3                       0             0                                     0   \n",
       "4                       0             0                                     0   \n",
       "\n",
       "   Anti_OmpC  pANCA  Anti_tissue_transglutaminase  anti_Scl_70  Anti_Mi2  \\\n",
       "0          0      0                             0            0         0   \n",
       "1          0      0                             0            0         1   \n",
       "2          0      0                             0            0         0   \n",
       "3          0      0                             0            0         0   \n",
       "4          0      0                             0            0         0   \n",
       "\n",
       "   Anti_parietal_cell  Progesterone_antibodies  Anti_Sm  Diseases_ID  \\\n",
       "0                   0                        0        0            1   \n",
       "1                   0                        0        0            2   \n",
       "2                   0                        0        0            3   \n",
       "3                   0                        0        0            4   \n",
       "4                   0                        0        0            5   \n",
       "\n",
       "                                      Diseases_eng  Diseases_group  Cluster  \n",
       "0                               Linear IgA disease               7        7  \n",
       "1                                  Dermatomyositis               4        6  \n",
       "2                                Ord's thyroiditis               8        3  \n",
       "3                           Restless legs syndrome               5        0  \n",
       "4  Autoimmune polyendocrine syndrome type 2 (APS2)               8        1  "
      ]
     },
     "execution_count": 4,
     "metadata": {},
     "output_type": "execute_result"
    }
   ],
   "source": [
    "scaled_df.head()"
   ]
  },
  {
   "cell_type": "code",
   "execution_count": 5,
   "metadata": {},
   "outputs": [
    {
     "name": "stdout",
     "output_type": "stream",
     "text": [
      "<class 'pandas.core.frame.DataFrame'>\n",
      "RangeIndex: 12499 entries, 0 to 12498\n",
      "Data columns (total 69 columns):\n",
      " #   Column                                Non-Null Count  Dtype  \n",
      "---  ------                                --------------  -----  \n",
      " 0   Age                                   12499 non-null  float64\n",
      " 1   Gender                                12499 non-null  int64  \n",
      " 2   Sickness_Duration_Months              12499 non-null  float64\n",
      " 3   RBC_Count                             12499 non-null  float64\n",
      " 4   Hemoglobin                            12499 non-null  float64\n",
      " 5   Hematocrit                            12499 non-null  float64\n",
      " 6   MCV                                   12499 non-null  float64\n",
      " 7   MCH                                   12499 non-null  float64\n",
      " 8   MCHC                                  12499 non-null  float64\n",
      " 9   RDW                                   12499 non-null  float64\n",
      " 10  Reticulocyte_Count                    12499 non-null  float64\n",
      " 11  WBC_Count                             12499 non-null  float64\n",
      " 12  Neutrophils                           12499 non-null  float64\n",
      " 13  Lymphocytes                           12499 non-null  float64\n",
      " 14  Monocytes                             12499 non-null  float64\n",
      " 15  Eosinophils                           12499 non-null  float64\n",
      " 16  Basophils                             12499 non-null  float64\n",
      " 17  PLT_Count                             12499 non-null  float64\n",
      " 18  MPV                                   12499 non-null  float64\n",
      " 19  ANA                                   12499 non-null  int64  \n",
      " 20  Esbach                                12499 non-null  float64\n",
      " 21  MBL_Level                             12499 non-null  float64\n",
      " 22  ESR                                   12499 non-null  float64\n",
      " 23  C3                                    12499 non-null  float64\n",
      " 24  C4                                    12499 non-null  float64\n",
      " 25  CRP                                   12499 non-null  float64\n",
      " 26  Anti-dsDNA                            12499 non-null  int64  \n",
      " 27  Anti-Sm                               12499 non-null  int64  \n",
      " 28  Rheumatoid factor                     12499 non-null  int64  \n",
      " 29  ACPA                                  12499 non-null  int64  \n",
      " 30  Anti-TPO                              12499 non-null  int64  \n",
      " 31  Anti-Tg                               12499 non-null  int64  \n",
      " 32  Anti-SMA                              12499 non-null  int64  \n",
      " 33  Low-grade fever                       12499 non-null  int64  \n",
      " 34  Fatigue or chronic tiredness          12499 non-null  int64  \n",
      " 35  Dizziness                             12499 non-null  int64  \n",
      " 36  Weight loss                           12499 non-null  int64  \n",
      " 37  Rashes and skin lesions               12499 non-null  int64  \n",
      " 38  Stiffness in the joints               12499 non-null  int64  \n",
      " 39  Brittle hair or hair loss             12499 non-null  int64  \n",
      " 40  Dry eyes and/or mouth                 12499 non-null  int64  \n",
      " 41  General unwell feeling                12499 non-null  int64  \n",
      " 42  Joint pain                            12499 non-null  int64  \n",
      " 43  Anti_dsDNA                            12499 non-null  int64  \n",
      " 44  Anti_enterocyte_antibodies            12499 non-null  int64  \n",
      " 45  ASCA                                  12499 non-null  int64  \n",
      " 46  Anti_BP180                            12499 non-null  int64  \n",
      " 47  ASMA                                  12499 non-null  int64  \n",
      " 48  IgG_IgE_receptor                      12499 non-null  int64  \n",
      " 49  Anti_SRP                              12499 non-null  int64  \n",
      " 50  Anti_La_SSB                           12499 non-null  int64  \n",
      " 51  Anti_Jo1                              12499 non-null  int64  \n",
      " 52  Anti_desmoglein_1                     12499 non-null  int64  \n",
      " 53  EMA                                   12499 non-null  int64  \n",
      " 54  Anti_type_VII_collagen                12499 non-null  int64  \n",
      " 55  C1_inhibitor                          12499 non-null  int64  \n",
      " 56  Anti_epidermal_basement_membrane_IgA  12499 non-null  int64  \n",
      " 57  Anti_OmpC                             12499 non-null  int64  \n",
      " 58  pANCA                                 12499 non-null  int64  \n",
      " 59  Anti_tissue_transglutaminase          12499 non-null  int64  \n",
      " 60  anti_Scl_70                           12499 non-null  int64  \n",
      " 61  Anti_Mi2                              12499 non-null  int64  \n",
      " 62  Anti_parietal_cell                    12499 non-null  int64  \n",
      " 63  Progesterone_antibodies               12499 non-null  int64  \n",
      " 64  Anti_Sm                               12499 non-null  int64  \n",
      " 65  Diseases_ID                           12499 non-null  int64  \n",
      " 66  Diseases_eng                          12499 non-null  object \n",
      " 67  Diseases_group                        12499 non-null  int64  \n",
      " 68  Cluster                               12499 non-null  int64  \n",
      "dtypes: float64(24), int64(44), object(1)\n",
      "memory usage: 6.6+ MB\n"
     ]
    }
   ],
   "source": [
    "scaled_df.info()"
   ]
  },
  {
   "cell_type": "markdown",
   "metadata": {},
   "source": [
    "Checking the number of cases in each cluster"
   ]
  },
  {
   "cell_type": "code",
   "execution_count": 67,
   "metadata": {},
   "outputs": [
    {
     "data": {
      "text/plain": [
       "Cluster\n",
       "4    2594\n",
       "5    1677\n",
       "7    1554\n",
       "1    1291\n",
       "3    1263\n",
       "2    1162\n",
       "8    1150\n",
       "0    1056\n",
       "6     752\n",
       "Name: count, dtype: int64"
      ]
     },
     "execution_count": 67,
     "metadata": {},
     "output_type": "execute_result"
    }
   ],
   "source": [
    "scaled_df['Cluster'].value_counts()"
   ]
  },
  {
   "cell_type": "markdown",
   "metadata": {},
   "source": [
    "Input data"
   ]
  },
  {
   "cell_type": "code",
   "execution_count": 68,
   "metadata": {},
   "outputs": [],
   "source": [
    "X = scaled_df.drop(['Diseases_group', 'Diseases_ID', 'Diseases_eng', 'Cluster'], axis=1)\n",
    "y = scaled_df['Cluster']"
   ]
  },
  {
   "cell_type": "markdown",
   "metadata": {},
   "source": [
    "First model with all features and SMOTE technique for unballanced classes"
   ]
  },
  {
   "cell_type": "markdown",
   "metadata": {},
   "source": [
    "Using SMOTE for unbalanced classes"
   ]
  },
  {
   "cell_type": "code",
   "execution_count": null,
   "metadata": {},
   "outputs": [],
   "source": [
    "smote = SMOTE(random_state=42)\n",
    "X_res, y_res = smote.fit_resample(X, y)"
   ]
  },
  {
   "cell_type": "markdown",
   "metadata": {},
   "source": [
    "Dividing data into training and test sets"
   ]
  },
  {
   "cell_type": "code",
   "execution_count": 70,
   "metadata": {},
   "outputs": [],
   "source": [
    "X_train, X_test, y_train, y_test = train_test_split(X_res, y_res, test_size=0.2, random_state = 42)"
   ]
  },
  {
   "cell_type": "markdown",
   "metadata": {},
   "source": [
    "First model selection and training (Decision Trees) with all features"
   ]
  },
  {
   "cell_type": "code",
   "execution_count": 71,
   "metadata": {},
   "outputs": [
    {
     "data": {
      "text/html": [
       "<style>#sk-container-id-6 {color: black;background-color: white;}#sk-container-id-6 pre{padding: 0;}#sk-container-id-6 div.sk-toggleable {background-color: white;}#sk-container-id-6 label.sk-toggleable__label {cursor: pointer;display: block;width: 100%;margin-bottom: 0;padding: 0.3em;box-sizing: border-box;text-align: center;}#sk-container-id-6 label.sk-toggleable__label-arrow:before {content: \"▸\";float: left;margin-right: 0.25em;color: #696969;}#sk-container-id-6 label.sk-toggleable__label-arrow:hover:before {color: black;}#sk-container-id-6 div.sk-estimator:hover label.sk-toggleable__label-arrow:before {color: black;}#sk-container-id-6 div.sk-toggleable__content {max-height: 0;max-width: 0;overflow: hidden;text-align: left;background-color: #f0f8ff;}#sk-container-id-6 div.sk-toggleable__content pre {margin: 0.2em;color: black;border-radius: 0.25em;background-color: #f0f8ff;}#sk-container-id-6 input.sk-toggleable__control:checked~div.sk-toggleable__content {max-height: 200px;max-width: 100%;overflow: auto;}#sk-container-id-6 input.sk-toggleable__control:checked~label.sk-toggleable__label-arrow:before {content: \"▾\";}#sk-container-id-6 div.sk-estimator input.sk-toggleable__control:checked~label.sk-toggleable__label {background-color: #d4ebff;}#sk-container-id-6 div.sk-label input.sk-toggleable__control:checked~label.sk-toggleable__label {background-color: #d4ebff;}#sk-container-id-6 input.sk-hidden--visually {border: 0;clip: rect(1px 1px 1px 1px);clip: rect(1px, 1px, 1px, 1px);height: 1px;margin: -1px;overflow: hidden;padding: 0;position: absolute;width: 1px;}#sk-container-id-6 div.sk-estimator {font-family: monospace;background-color: #f0f8ff;border: 1px dotted black;border-radius: 0.25em;box-sizing: border-box;margin-bottom: 0.5em;}#sk-container-id-6 div.sk-estimator:hover {background-color: #d4ebff;}#sk-container-id-6 div.sk-parallel-item::after {content: \"\";width: 100%;border-bottom: 1px solid gray;flex-grow: 1;}#sk-container-id-6 div.sk-label:hover label.sk-toggleable__label {background-color: #d4ebff;}#sk-container-id-6 div.sk-serial::before {content: \"\";position: absolute;border-left: 1px solid gray;box-sizing: border-box;top: 0;bottom: 0;left: 50%;z-index: 0;}#sk-container-id-6 div.sk-serial {display: flex;flex-direction: column;align-items: center;background-color: white;padding-right: 0.2em;padding-left: 0.2em;position: relative;}#sk-container-id-6 div.sk-item {position: relative;z-index: 1;}#sk-container-id-6 div.sk-parallel {display: flex;align-items: stretch;justify-content: center;background-color: white;position: relative;}#sk-container-id-6 div.sk-item::before, #sk-container-id-6 div.sk-parallel-item::before {content: \"\";position: absolute;border-left: 1px solid gray;box-sizing: border-box;top: 0;bottom: 0;left: 50%;z-index: -1;}#sk-container-id-6 div.sk-parallel-item {display: flex;flex-direction: column;z-index: 1;position: relative;background-color: white;}#sk-container-id-6 div.sk-parallel-item:first-child::after {align-self: flex-end;width: 50%;}#sk-container-id-6 div.sk-parallel-item:last-child::after {align-self: flex-start;width: 50%;}#sk-container-id-6 div.sk-parallel-item:only-child::after {width: 0;}#sk-container-id-6 div.sk-dashed-wrapped {border: 1px dashed gray;margin: 0 0.4em 0.5em 0.4em;box-sizing: border-box;padding-bottom: 0.4em;background-color: white;}#sk-container-id-6 div.sk-label label {font-family: monospace;font-weight: bold;display: inline-block;line-height: 1.2em;}#sk-container-id-6 div.sk-label-container {text-align: center;}#sk-container-id-6 div.sk-container {/* jupyter's `normalize.less` sets `[hidden] { display: none; }` but bootstrap.min.css set `[hidden] { display: none !important; }` so we also need the `!important` here to be able to override the default hidden behavior on the sphinx rendered scikit-learn.org. See: https://github.com/scikit-learn/scikit-learn/issues/21755 */display: inline-block !important;position: relative;}#sk-container-id-6 div.sk-text-repr-fallback {display: none;}</style><div id=\"sk-container-id-6\" class=\"sk-top-container\"><div class=\"sk-text-repr-fallback\"><pre>DecisionTreeClassifier(random_state=42)</pre><b>In a Jupyter environment, please rerun this cell to show the HTML representation or trust the notebook. <br />On GitHub, the HTML representation is unable to render, please try loading this page with nbviewer.org.</b></div><div class=\"sk-container\" hidden><div class=\"sk-item\"><div class=\"sk-estimator sk-toggleable\"><input class=\"sk-toggleable__control sk-hidden--visually\" id=\"sk-estimator-id-10\" type=\"checkbox\" checked><label for=\"sk-estimator-id-10\" class=\"sk-toggleable__label sk-toggleable__label-arrow\">DecisionTreeClassifier</label><div class=\"sk-toggleable__content\"><pre>DecisionTreeClassifier(random_state=42)</pre></div></div></div></div></div>"
      ],
      "text/plain": [
       "DecisionTreeClassifier(random_state=42)"
      ]
     },
     "execution_count": 71,
     "metadata": {},
     "output_type": "execute_result"
    }
   ],
   "source": [
    "model = DecisionTreeClassifier(random_state=42)\n",
    "model.fit(X_train, y_train)"
   ]
  },
  {
   "cell_type": "markdown",
   "metadata": {},
   "source": [
    "Prediction on test dataset and model evaluation"
   ]
  },
  {
   "cell_type": "code",
   "execution_count": 72,
   "metadata": {},
   "outputs": [
    {
     "name": "stdout",
     "output_type": "stream",
     "text": [
      "First model (all features):\n",
      "              precision    recall  f1-score   support\n",
      "\n",
      "           0       0.50      0.56      0.53       488\n",
      "           1       0.50      0.48      0.49       552\n",
      "           2       0.60      0.64      0.62       525\n",
      "           3       0.47      0.44      0.46       513\n",
      "           4       1.00      1.00      1.00       492\n",
      "           5       0.30      0.28      0.29       518\n",
      "           6       0.55      0.54      0.54       538\n",
      "           7       0.58      0.57      0.57       524\n",
      "           8       0.52      0.51      0.51       520\n",
      "\n",
      "    accuracy                           0.56      4670\n",
      "   macro avg       0.56      0.56      0.56      4670\n",
      "weighted avg       0.55      0.56      0.55      4670\n",
      "\n",
      "Confusion Matrix:\n",
      "[[272  37  34  44   0  46  29  26   0]\n",
      " [ 59 266  29   0   0  55  49  39  55]\n",
      " [ 28  38 336  30   1  26  17  23  26]\n",
      " [ 54   0  36 228   0  67  35  47  46]\n",
      " [  0   0   0   0 492   0   0   0   0]\n",
      " [ 57  69  36  68   0 147  44  33  64]\n",
      " [ 34  44  22  39   0  48 291  22  38]\n",
      " [ 36  26  26  39   0  46  31 299  21]\n",
      " [  0  55  40  40   0  52  36  30 267]]\n"
     ]
    }
   ],
   "source": [
    "y_pred = model.predict(X_test)\n",
    "print(\"First model (all features):\")\n",
    "print(classification_report(y_test, y_pred))\n",
    "print(\"Confusion Matrix:\")\n",
    "print(confusion_matrix(y_test, y_pred))"
   ]
  },
  {
   "cell_type": "markdown",
   "metadata": {},
   "source": [
    "Features importance in first model"
   ]
  },
  {
   "cell_type": "code",
   "execution_count": 73,
   "metadata": {},
   "outputs": [
    {
     "name": "stdout",
     "output_type": "stream",
     "text": [
      "Feature Importances:\n",
      "                   Feature  Importance\n",
      "25                     CRP    0.152021\n",
      "41  General unwell feeling    0.032357\n",
      "36             Weight loss    0.031554\n",
      "16               Basophils    0.028959\n",
      "24                      C4    0.028904\n",
      "..                     ...         ...\n",
      "43              Anti_dsDNA    0.001564\n",
      "50             Anti_La_SSB    0.000000\n",
      "57               Anti_OmpC    0.000000\n",
      "58                   pANCA    0.000000\n",
      "61                Anti_Mi2    0.000000\n",
      "\n",
      "[65 rows x 2 columns]\n"
     ]
    },
    {
     "data": {
      "image/png": "[encoded data removed]",
      "text/plain": [
       "<Figure size 1400x1000 with 1 Axes>"
      ]
     },
     "metadata": {},
     "output_type": "display_data"
    }
   ],
   "source": [
    "feature_importances = model.feature_importances_\n",
    "\n",
    "features = pd.DataFrame({\n",
    "    'Feature': X_train.columns,\n",
    "    'Importance': feature_importances\n",
    "}).sort_values(by='Importance', ascending=False)\n",
    "\n",
    "print(\"Feature Importances:\")\n",
    "print(features)\n",
    "\n",
    "plt.figure(figsize=(14, 10))\n",
    "plt.barh(features['Feature'], features['Importance'], color='skyblue')\n",
    "plt.xlabel('Importance')\n",
    "plt.title('Feature Importance')\n",
    "plt.gca().invert_yaxis()\n",
    "plt.show()"
   ]
  },
  {
   "cell_type": "code",
   "execution_count": 74,
   "metadata": {},
   "outputs": [
    {
     "name": "stdout",
     "output_type": "stream",
     "text": [
      "Selected features (treshold > 0.01)\n",
      "Index(['Age', 'Sickness_Duration_Months', 'RBC_Count', 'Hemoglobin',\n",
      "       'Hematocrit', 'MCV', 'MCH', 'MCHC', 'RDW', 'Reticulocyte_Count',\n",
      "       'WBC_Count', 'Neutrophils', 'Lymphocytes', 'Monocytes', 'Eosinophils',\n",
      "       'Basophils', 'PLT_Count', 'MPV', 'Esbach', 'MBL_Level', 'ESR', 'C3',\n",
      "       'C4', 'CRP', 'Weight loss', 'General unwell feeling', 'ASCA',\n",
      "       'Anti_BP180', 'Anti_SRP', 'Anti_Jo1'],\n",
      "      dtype='object')\n"
     ]
    }
   ],
   "source": [
    "threshold = 0.01\n",
    "\n",
    "important_features_idx = model.feature_importances_ > threshold\n",
    "\n",
    "X_selected = X.iloc[:, important_features_idx]\n",
    "\n",
    "selected_columns = X_selected.columns\n",
    "print(\"Selected features (treshold > 0.01)\")\n",
    "print(selected_columns)"
   ]
  },
  {
   "cell_type": "markdown",
   "metadata": {},
   "source": [
    "Second model with feature selection (different level of treshold was checked, optimal is 0.01) and SMOTE for unballanced classes. "
   ]
  },
  {
   "cell_type": "code",
   "execution_count": 75,
   "metadata": {},
   "outputs": [],
   "source": [
    "smote = SMOTE(random_state=42)\n",
    "X_res_selected, y_res_selected = smote.fit_resample(X_selected, y)\n",
    "X_train_selected, X_test_selected, y_train_selected, y_test_selected = train_test_split(\n",
    "    X_res_selected, y_res_selected, test_size=0.2, random_state=42\n",
    ")\n"
   ]
  },
  {
   "cell_type": "code",
   "execution_count": 76,
   "metadata": {},
   "outputs": [],
   "source": [
    "model.fit(X_train_selected, y_train_selected)\n",
    "y_pred_selected = model.predict(X_test_selected)"
   ]
  },
  {
   "cell_type": "code",
   "execution_count": 77,
   "metadata": {},
   "outputs": [
    {
     "name": "stdout",
     "output_type": "stream",
     "text": [
      "Second model with selected features (threshold > 0.02):\n",
      "              precision    recall  f1-score   support\n",
      "\n",
      "           0       0.56      0.57      0.57       488\n",
      "           1       0.56      0.55      0.56       552\n",
      "           2       0.54      0.55      0.54       525\n",
      "           3       0.56      0.59      0.58       513\n",
      "           4       1.00      1.00      1.00       492\n",
      "           5       0.35      0.34      0.34       518\n",
      "           6       0.65      0.67      0.66       538\n",
      "           7       0.49      0.47      0.48       524\n",
      "           8       0.57      0.55      0.56       520\n",
      "\n",
      "    accuracy                           0.59      4670\n",
      "   macro avg       0.59      0.59      0.59      4670\n",
      "weighted avg       0.58      0.59      0.58      4670\n",
      "\n",
      "Confusion Matrix:\n",
      "[[280  32  42  36   0  38  25  35   0]\n",
      " [ 31 303  35   0   0  61  34  45  43]\n",
      " [ 27  38 288  38   0  47  16  35  36]\n",
      " [ 37   0  26 304   0  47  26  37  36]\n",
      " [  0   0   0   0 492   0   0   0   0]\n",
      " [ 62  49  59  48   0 176  38  45  41]\n",
      " [ 20  32  22  19   0  32 359  28  26]\n",
      " [ 43  39  34  50   0  56  26 246  30]\n",
      " [  0  46  29  49   0  47  28  36 285]]\n"
     ]
    }
   ],
   "source": [
    "print(\"Second model with selected features (threshold > 0.02):\")\n",
    "print(classification_report(y_test_selected, y_pred_selected))\n",
    "print(\"Confusion Matrix:\")\n",
    "print(confusion_matrix(y_test_selected, y_pred_selected))"
   ]
  },
  {
   "cell_type": "markdown",
   "metadata": {},
   "source": [
    "Third model with feature selection but this time SMOTE technique was replaced with class weights"
   ]
  },
  {
   "cell_type": "code",
   "execution_count": 78,
   "metadata": {},
   "outputs": [],
   "source": [
    "X_train_selected, X_test_selected, y_train_selected, y_test_selected = train_test_split(\n",
    "    X_selected, y, test_size=0.2, random_state=42\n",
    ")\n"
   ]
  },
  {
   "cell_type": "code",
   "execution_count": 79,
   "metadata": {},
   "outputs": [],
   "source": [
    "model_balanced = DecisionTreeClassifier(random_state=42, class_weight='balanced')\n",
    "model_balanced.fit(X_train_selected, y_train_selected)\n",
    "y_pred_selected = model_balanced.predict(X_test_selected)"
   ]
  },
  {
   "cell_type": "code",
   "execution_count": 81,
   "metadata": {},
   "outputs": [
    {
     "name": "stdout",
     "output_type": "stream",
     "text": [
      "Third model with selected features (threshold > 0.01, class_weight='balanced'):\n",
      "              precision    recall  f1-score   support\n",
      "\n",
      "           0       0.22      0.24      0.23       204\n",
      "           1       0.26      0.27      0.26       248\n",
      "           2       0.24      0.21      0.22       245\n",
      "           3       0.30      0.28      0.29       263\n",
      "           4       0.99      1.00      1.00       518\n",
      "           5       0.20      0.21      0.21       327\n",
      "           6       0.26      0.24      0.25       169\n",
      "           7       0.28      0.28      0.28       296\n",
      "           8       0.22      0.23      0.23       230\n",
      "\n",
      "    accuracy                           0.40      2500\n",
      "   macro avg       0.33      0.33      0.33      2500\n",
      "weighted avg       0.40      0.40      0.40      2500\n",
      "\n",
      "Confusion Matrix:\n",
      "[[ 48  28  15  28   0  49  13  23   0]\n",
      " [ 33  66  29   0   0  38  23  25  34]\n",
      " [ 21  35  52  26   2  37  17  28  27]\n",
      " [ 33   0  25  74   0  48  14  40  29]\n",
      " [  0   0   0   0 518   0   0   0   0]\n",
      " [ 32  38  32  46   0  69  17  48  45]\n",
      " [ 21  17   8  18   0  32  40  15  18]\n",
      " [ 32  33  20  37   0  37  16  84  37]\n",
      " [  0  39  39  14   1  35  15  33  54]]\n"
     ]
    }
   ],
   "source": [
    "print(\"Third model with selected features (threshold > 0.01, class_weight='balanced'):\")\n",
    "print(classification_report(y_test_selected, y_pred_selected))\n",
    "print(\"Confusion Matrix:\")\n",
    "print(confusion_matrix(y_test_selected, y_pred_selected))"
   ]
  },
  {
   "cell_type": "markdown",
   "metadata": {},
   "source": [
    "Fourth model with all features and unballanced classes"
   ]
  },
  {
   "cell_type": "code",
   "execution_count": 88,
   "metadata": {},
   "outputs": [],
   "source": [
    "X_train_full, X_test_full, y_train_full, y_test_full = train_test_split(X, y, test_size=0.2, random_state=42)\n",
    "model_full_no_balance = DecisionTreeClassifier(random_state=42)\n",
    "model_full_no_balance.fit(X_train_full, y_train_full)\n",
    "y_pred_full_no_balance = model_full_no_balance.predict(X_test_full)"
   ]
  },
  {
   "cell_type": "code",
   "execution_count": 89,
   "metadata": {},
   "outputs": [
    {
     "name": "stdout",
     "output_type": "stream",
     "text": [
      "Fourth model (all features, no balancing):\n",
      "              precision    recall  f1-score   support\n",
      "\n",
      "           0       0.24      0.22      0.23       204\n",
      "           1       0.30      0.36      0.33       248\n",
      "           2       0.58      0.58      0.58       245\n",
      "           3       0.35      0.34      0.35       263\n",
      "           4       0.99      1.00      1.00       518\n",
      "           5       0.20      0.21      0.20       327\n",
      "           6       0.26      0.23      0.24       169\n",
      "           7       0.60      0.57      0.58       296\n",
      "           8       0.29      0.27      0.28       230\n",
      "\n",
      "    accuracy                           0.49      2500\n",
      "   macro avg       0.42      0.42      0.42      2500\n",
      "weighted avg       0.49      0.49      0.49      2500\n",
      "\n",
      "Confusion Matrix:\n",
      "[[ 45  37  17  34   0  44  15  12   0]\n",
      " [ 22  89  14   0   0  56  18  18  31]\n",
      " [ 14  17 142  14   2  22   7  12  15]\n",
      " [ 33   0  17  89   0  57  16  21  30]\n",
      " [  0   0   0   0 518   0   0   0   0]\n",
      " [ 37  58  17  51   1  69  27  22  45]\n",
      " [ 20  22   7  20   0  39  39   9  13]\n",
      " [ 18  26  11  20   0  23  13 168  17]\n",
      " [  0  49  20  23   1  40  16  19  62]]\n"
     ]
    }
   ],
   "source": [
    "print(\"Fourth model (all features, no balancing):\")\n",
    "print(classification_report(y_test_full, y_pred_full_no_balance))\n",
    "print(\"Confusion Matrix:\")\n",
    "print(confusion_matrix(y_test_full, y_pred_full_no_balance))\n"
   ]
  },
  {
   "cell_type": "markdown",
   "metadata": {},
   "source": [
    "Fifth model with feature selection and unballanced classes"
   ]
  },
  {
   "cell_type": "code",
   "execution_count": 90,
   "metadata": {},
   "outputs": [],
   "source": [
    "model_selected_no_balance = DecisionTreeClassifier(random_state=42)\n",
    "model_selected_no_balance.fit(X_train_selected, y_train_selected)\n",
    "y_pred_selected_no_balance = model_selected_no_balance.predict(X_test_selected)"
   ]
  },
  {
   "cell_type": "code",
   "execution_count": 91,
   "metadata": {},
   "outputs": [
    {
     "name": "stdout",
     "output_type": "stream",
     "text": [
      "Fifth model (selected features, threshold > 0.02, no balancing):\n",
      "              precision    recall  f1-score   support\n",
      "\n",
      "           0       0.19      0.21      0.20       204\n",
      "           1       0.24      0.26      0.25       248\n",
      "           2       0.21      0.20      0.20       245\n",
      "           3       0.28      0.25      0.27       263\n",
      "           4       0.99      1.00      1.00       518\n",
      "           5       0.16      0.16      0.16       327\n",
      "           6       0.28      0.24      0.26       169\n",
      "           7       0.24      0.25      0.24       296\n",
      "           8       0.29      0.29      0.29       230\n",
      "\n",
      "    accuracy                           0.39      2500\n",
      "   macro avg       0.32      0.32      0.32      2500\n",
      "weighted avg       0.39      0.39      0.39      2500\n",
      "\n",
      "Confusion Matrix:\n",
      "[[ 42  35  19  28   0  35  15  30   0]\n",
      " [ 32  65  31   0   0  51   8  34  27]\n",
      " [ 29  33  49  23   2  41   9  36  23]\n",
      " [ 37   0  38  67   0  44  20  29  28]\n",
      " [  0   0   0   0 518   0   0   0   0]\n",
      " [ 32  58  31  41   0  52  20  53  40]\n",
      " [ 15  21  12  19   0  26  41  19  16]\n",
      " [ 36  24  33  42   0  48  16  73  24]\n",
      " [  0  33  21  21   1  37  17  34  66]]\n"
     ]
    }
   ],
   "source": [
    "print(\"Fifth model (selected features, threshold > 0.02, no balancing):\")\n",
    "print(classification_report(y_test_selected, y_pred_selected_no_balance))\n",
    "print(\"Confusion Matrix:\")\n",
    "print(confusion_matrix(y_test_selected, y_pred_selected_no_balance))"
   ]
  },
  {
   "cell_type": "markdown",
   "metadata": {},
   "source": [
    "Best model is that with selected features (treshold = 0.01) and SMOTE technique for unballanced classes. For this model cross validation was conducted to check out results stability"
   ]
  },
  {
   "cell_type": "markdown",
   "metadata": {},
   "source": [
    "Cross validation of the second model with selected features"
   ]
  },
  {
   "cell_type": "code",
   "execution_count": null,
   "metadata": {},
   "outputs": [
    {
     "name": "stdout",
     "output_type": "stream",
     "text": [
      "Mean accuracy: 0.60\n",
      "Mean precision: 0.60\n",
      "Mean recall: 0.60\n"
     ]
    }
   ],
   "source": [
    "pipeline = Pipeline([\n",
    "    ('feature_selection', SelectFromModel(DecisionTreeClassifier(random_state=42), threshold=threshold, prefit=False)),\n",
    "    ('model', DecisionTreeClassifier(random_state=42))\n",
    "])\n",
    "\n",
    "results = cross_validate(pipeline, X_res_selected, y_res_selected, cv=5, scoring=['accuracy', 'precision_macro', 'recall_macro'])\n",
    "\n",
    "# Wyniki walidacji krzyżowej\n",
    "print(f'Mean accuracy: {results[\"test_accuracy\"].mean():.2f}')\n",
    "print(f'Mean precision: {results[\"test_precision_macro\"].mean():.2f}')\n",
    "print(f'Mean recall: {results[\"test_recall_macro\"].mean():.2f}')"
   ]
  },
  {
   "cell_type": "markdown",
   "metadata": {},
   "source": [
    "Results are stable"
   ]
  },
  {
   "cell_type": "code",
   "execution_count": 93,
   "metadata": {},
   "outputs": [
    {
     "data": {
      "text/html": [
       "<style>#sk-container-id-7 {color: black;background-color: white;}#sk-container-id-7 pre{padding: 0;}#sk-container-id-7 div.sk-toggleable {background-color: white;}#sk-container-id-7 label.sk-toggleable__label {cursor: pointer;display: block;width: 100%;margin-bottom: 0;padding: 0.3em;box-sizing: border-box;text-align: center;}#sk-container-id-7 label.sk-toggleable__label-arrow:before {content: \"▸\";float: left;margin-right: 0.25em;color: #696969;}#sk-container-id-7 label.sk-toggleable__label-arrow:hover:before {color: black;}#sk-container-id-7 div.sk-estimator:hover label.sk-toggleable__label-arrow:before {color: black;}#sk-container-id-7 div.sk-toggleable__content {max-height: 0;max-width: 0;overflow: hidden;text-align: left;background-color: #f0f8ff;}#sk-container-id-7 div.sk-toggleable__content pre {margin: 0.2em;color: black;border-radius: 0.25em;background-color: #f0f8ff;}#sk-container-id-7 input.sk-toggleable__control:checked~div.sk-toggleable__content {max-height: 200px;max-width: 100%;overflow: auto;}#sk-container-id-7 input.sk-toggleable__control:checked~label.sk-toggleable__label-arrow:before {content: \"▾\";}#sk-container-id-7 div.sk-estimator input.sk-toggleable__control:checked~label.sk-toggleable__label {background-color: #d4ebff;}#sk-container-id-7 div.sk-label input.sk-toggleable__control:checked~label.sk-toggleable__label {background-color: #d4ebff;}#sk-container-id-7 input.sk-hidden--visually {border: 0;clip: rect(1px 1px 1px 1px);clip: rect(1px, 1px, 1px, 1px);height: 1px;margin: -1px;overflow: hidden;padding: 0;position: absolute;width: 1px;}#sk-container-id-7 div.sk-estimator {font-family: monospace;background-color: #f0f8ff;border: 1px dotted black;border-radius: 0.25em;box-sizing: border-box;margin-bottom: 0.5em;}#sk-container-id-7 div.sk-estimator:hover {background-color: #d4ebff;}#sk-container-id-7 div.sk-parallel-item::after {content: \"\";width: 100%;border-bottom: 1px solid gray;flex-grow: 1;}#sk-container-id-7 div.sk-label:hover label.sk-toggleable__label {background-color: #d4ebff;}#sk-container-id-7 div.sk-serial::before {content: \"\";position: absolute;border-left: 1px solid gray;box-sizing: border-box;top: 0;bottom: 0;left: 50%;z-index: 0;}#sk-container-id-7 div.sk-serial {display: flex;flex-direction: column;align-items: center;background-color: white;padding-right: 0.2em;padding-left: 0.2em;position: relative;}#sk-container-id-7 div.sk-item {position: relative;z-index: 1;}#sk-container-id-7 div.sk-parallel {display: flex;align-items: stretch;justify-content: center;background-color: white;position: relative;}#sk-container-id-7 div.sk-item::before, #sk-container-id-7 div.sk-parallel-item::before {content: \"\";position: absolute;border-left: 1px solid gray;box-sizing: border-box;top: 0;bottom: 0;left: 50%;z-index: -1;}#sk-container-id-7 div.sk-parallel-item {display: flex;flex-direction: column;z-index: 1;position: relative;background-color: white;}#sk-container-id-7 div.sk-parallel-item:first-child::after {align-self: flex-end;width: 50%;}#sk-container-id-7 div.sk-parallel-item:last-child::after {align-self: flex-start;width: 50%;}#sk-container-id-7 div.sk-parallel-item:only-child::after {width: 0;}#sk-container-id-7 div.sk-dashed-wrapped {border: 1px dashed gray;margin: 0 0.4em 0.5em 0.4em;box-sizing: border-box;padding-bottom: 0.4em;background-color: white;}#sk-container-id-7 div.sk-label label {font-family: monospace;font-weight: bold;display: inline-block;line-height: 1.2em;}#sk-container-id-7 div.sk-label-container {text-align: center;}#sk-container-id-7 div.sk-container {/* jupyter's `normalize.less` sets `[hidden] { display: none; }` but bootstrap.min.css set `[hidden] { display: none !important; }` so we also need the `!important` here to be able to override the default hidden behavior on the sphinx rendered scikit-learn.org. See: https://github.com/scikit-learn/scikit-learn/issues/21755 */display: inline-block !important;position: relative;}#sk-container-id-7 div.sk-text-repr-fallback {display: none;}</style><div id=\"sk-container-id-7\" class=\"sk-top-container\"><div class=\"sk-text-repr-fallback\"><pre>Pipeline(steps=[(&#x27;feature_selection&#x27;,\n",
       "                 SelectFromModel(estimator=DecisionTreeClassifier(random_state=42),\n",
       "                                 threshold=0.01)),\n",
       "                (&#x27;model&#x27;, DecisionTreeClassifier(random_state=42))])</pre><b>In a Jupyter environment, please rerun this cell to show the HTML representation or trust the notebook. <br />On GitHub, the HTML representation is unable to render, please try loading this page with nbviewer.org.</b></div><div class=\"sk-container\" hidden><div class=\"sk-item sk-dashed-wrapped\"><div class=\"sk-label-container\"><div class=\"sk-label sk-toggleable\"><input class=\"sk-toggleable__control sk-hidden--visually\" id=\"sk-estimator-id-11\" type=\"checkbox\" ><label for=\"sk-estimator-id-11\" class=\"sk-toggleable__label sk-toggleable__label-arrow\">Pipeline</label><div class=\"sk-toggleable__content\"><pre>Pipeline(steps=[(&#x27;feature_selection&#x27;,\n",
       "                 SelectFromModel(estimator=DecisionTreeClassifier(random_state=42),\n",
       "                                 threshold=0.01)),\n",
       "                (&#x27;model&#x27;, DecisionTreeClassifier(random_state=42))])</pre></div></div></div><div class=\"sk-serial\"><div class=\"sk-item sk-dashed-wrapped\"><div class=\"sk-label-container\"><div class=\"sk-label sk-toggleable\"><input class=\"sk-toggleable__control sk-hidden--visually\" id=\"sk-estimator-id-12\" type=\"checkbox\" ><label for=\"sk-estimator-id-12\" class=\"sk-toggleable__label sk-toggleable__label-arrow\">feature_selection: SelectFromModel</label><div class=\"sk-toggleable__content\"><pre>SelectFromModel(estimator=DecisionTreeClassifier(random_state=42),\n",
       "                threshold=0.01)</pre></div></div></div><div class=\"sk-parallel\"><div class=\"sk-parallel-item\"><div class=\"sk-item\"><div class=\"sk-label-container\"><div class=\"sk-label sk-toggleable\"><input class=\"sk-toggleable__control sk-hidden--visually\" id=\"sk-estimator-id-13\" type=\"checkbox\" ><label for=\"sk-estimator-id-13\" class=\"sk-toggleable__label sk-toggleable__label-arrow\">estimator: DecisionTreeClassifier</label><div class=\"sk-toggleable__content\"><pre>DecisionTreeClassifier(random_state=42)</pre></div></div></div><div class=\"sk-serial\"><div class=\"sk-item\"><div class=\"sk-estimator sk-toggleable\"><input class=\"sk-toggleable__control sk-hidden--visually\" id=\"sk-estimator-id-14\" type=\"checkbox\" ><label for=\"sk-estimator-id-14\" class=\"sk-toggleable__label sk-toggleable__label-arrow\">DecisionTreeClassifier</label><div class=\"sk-toggleable__content\"><pre>DecisionTreeClassifier(random_state=42)</pre></div></div></div></div></div></div></div></div><div class=\"sk-item\"><div class=\"sk-estimator sk-toggleable\"><input class=\"sk-toggleable__control sk-hidden--visually\" id=\"sk-estimator-id-15\" type=\"checkbox\" ><label for=\"sk-estimator-id-15\" class=\"sk-toggleable__label sk-toggleable__label-arrow\">DecisionTreeClassifier</label><div class=\"sk-toggleable__content\"><pre>DecisionTreeClassifier(random_state=42)</pre></div></div></div></div></div></div></div>"
      ],
      "text/plain": [
       "Pipeline(steps=[('feature_selection',\n",
       "                 SelectFromModel(estimator=DecisionTreeClassifier(random_state=42),\n",
       "                                 threshold=0.01)),\n",
       "                ('model', DecisionTreeClassifier(random_state=42))])"
      ]
     },
     "execution_count": 93,
     "metadata": {},
     "output_type": "execute_result"
    }
   ],
   "source": [
    "import sklearn\n",
    "\n",
    "sklearn.set_config(display='diagram')\n",
    "\n",
    "pipeline\n"
   ]
  },
  {
   "cell_type": "markdown",
   "metadata": {},
   "source": [
    "Now when we know that second classification model with clusters as a lables is the best and it's stable, we can conduct hiperparameters searching with RandomizedSearchCV"
   ]
  },
  {
   "cell_type": "code",
   "execution_count": 95,
   "metadata": {},
   "outputs": [
    {
     "name": "stdout",
     "output_type": "stream",
     "text": [
      "Best parameters: {'criterion': 'gini', 'max_depth': 19, 'min_samples_leaf': 2, 'min_samples_split': 3}\n",
      "Best cross-validated accuracy: 0.5144032805024523\n",
      "Test classification report:\n",
      "              precision    recall  f1-score   support\n",
      "\n",
      "           0       0.47      0.56      0.51       488\n",
      "           1       0.50      0.56      0.53       552\n",
      "           2       0.44      0.47      0.45       525\n",
      "           3       0.46      0.57      0.51       513\n",
      "           4       1.00      1.00      1.00       492\n",
      "           5       0.31      0.26      0.29       518\n",
      "           6       0.64      0.55      0.59       538\n",
      "           7       0.52      0.36      0.42       524\n",
      "           8       0.51      0.51      0.51       520\n",
      "\n",
      "    accuracy                           0.54      4670\n",
      "   macro avg       0.54      0.54      0.53      4670\n",
      "weighted avg       0.54      0.54      0.53      4670\n",
      "\n"
     ]
    }
   ],
   "source": [
    "from sklearn.model_selection import RandomizedSearchCV\n",
    "from scipy.stats import randint\n",
    "\n",
    "smote = SMOTE(random_state=42)\n",
    "X_res_selected, y_res = smote.fit_resample(X_selected, y)\n",
    "\n",
    "X_train_selected, X_test_selected, y_train, y_test = train_test_split(\n",
    "    X_res_selected, y_res_selected, test_size=0.2, random_state=42\n",
    ")\n",
    "\n",
    "params = {\n",
    "    'criterion': ['gini', 'entropy'],\n",
    "    'max_depth': randint(3, 20),  \n",
    "    'min_samples_split': randint(2, 10), \n",
    "    'min_samples_leaf': randint(1, 10) \n",
    "}\n",
    "\n",
    "random_search = RandomizedSearchCV(\n",
    "    estimator=DecisionTreeClassifier(random_state=42),\n",
    "    param_distributions=params,\n",
    "    n_iter=50,  \n",
    "    cv=5,       \n",
    "    scoring='accuracy',  \n",
    "    n_jobs=-1,  \n",
    "    random_state=42  \n",
    ")\n",
    "\n",
    "random_search.fit(X_train_selected, y_train)\n",
    "\n",
    "print(\"Best parameters:\", random_search.best_params_)\n",
    "print(\"Best cross-validated accuracy:\", random_search.best_score_)\n",
    "\n",
    "best_model = random_search.best_estimator_\n",
    "y_test_pred = best_model.predict(X_test_selected)\n",
    "print(\"Test classification report:\")\n",
    "print(classification_report(y_test, y_test_pred))\n"
   ]
  },
  {
   "cell_type": "markdown",
   "metadata": {},
   "source": [
    "\n",
    "These classification models were created based on the labels of the grouping variable generated using k-means clustering. These models will be compared with classification models where the categories of the grouping variable were defined based on domain (medical) knowledge. Additionally, it should be noted that the disease groups created through clustering may present challenges in terms of their substantive interpretation. This will pose a problem in the context of the business objective for which the classification model is being built (classifying patients into different autoimmune disease groups based on symptoms and test results, as well as providing recommendations for further medical diagnosis and disease prevention"
   ]
  }
 ],
 "metadata": {
  "kernelspec": {
   "display_name": "base",
   "language": "python",
   "name": "python3"
  },
  "language_info": {
   "codemirror_mode": {
    "name": "ipython",
    "version": 3
   },
   "file_extension": ".py",
   "mimetype": "text/x-python",
   "name": "python",
   "nbconvert_exporter": "python",
   "pygments_lexer": "ipython3",
   "version": "3.11.9"
  }
 },
 "nbformat": 4,
 "nbformat_minor": 2
}
